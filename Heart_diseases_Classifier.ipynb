{
 "cells": [
  {
   "cell_type": "markdown",
   "metadata": {},
   "source": [
    "# HEART DISEASES-DATA SET"
   ]
  },
  {
   "cell_type": "markdown",
   "metadata": {},
   "source": [
    "Propose an ANN classifier that allows to predict with high accuracy diagnostic."
   ]
  },
  {
   "cell_type": "code",
   "execution_count": 1,
   "metadata": {},
   "outputs": [],
   "source": [
    "#import library\n",
    "import numpy as np\n",
    "import pandas as pd\n",
    "import matplotlib.pyplot as plt\n",
    "from sklearn.preprocessing import StandardScaler #standardize the data\n",
    "from sklearn.neural_network import MLPClassifier #use the neural network MLPClassifier\n",
    "\n",
    "#use some metrics to analyze results\n",
    "from sklearn.metrics import classification_report,confusion_matrix,accuracy_score\n"
   ]
  },
  {
   "cell_type": "code",
   "execution_count": 2,
   "metadata": {},
   "outputs": [
    {
     "data": {
      "text/html": [
       "<div>\n",
       "<style scoped>\n",
       "    .dataframe tbody tr th:only-of-type {\n",
       "        vertical-align: middle;\n",
       "    }\n",
       "\n",
       "    .dataframe tbody tr th {\n",
       "        vertical-align: top;\n",
       "    }\n",
       "\n",
       "    .dataframe thead th {\n",
       "        text-align: right;\n",
       "    }\n",
       "</style>\n",
       "<table border=\"1\" class=\"dataframe\">\n",
       "  <thead>\n",
       "    <tr style=\"text-align: right;\">\n",
       "      <th></th>\n",
       "      <th>sample</th>\n",
       "      <th>cholesteral</th>\n",
       "      <th>thalac</th>\n",
       "      <th>oldpeak</th>\n",
       "      <th>disease</th>\n",
       "    </tr>\n",
       "  </thead>\n",
       "  <tbody>\n",
       "    <tr>\n",
       "      <th>0</th>\n",
       "      <td>train</td>\n",
       "      <td>261</td>\n",
       "      <td>141</td>\n",
       "      <td>3</td>\n",
       "      <td>positive</td>\n",
       "    </tr>\n",
       "    <tr>\n",
       "      <th>1</th>\n",
       "      <td>train</td>\n",
       "      <td>263</td>\n",
       "      <td>105</td>\n",
       "      <td>2</td>\n",
       "      <td>negative</td>\n",
       "    </tr>\n",
       "    <tr>\n",
       "      <th>2</th>\n",
       "      <td>train</td>\n",
       "      <td>269</td>\n",
       "      <td>121</td>\n",
       "      <td>2</td>\n",
       "      <td>negative</td>\n",
       "    </tr>\n",
       "    <tr>\n",
       "      <th>3</th>\n",
       "      <td>train</td>\n",
       "      <td>177</td>\n",
       "      <td>140</td>\n",
       "      <td>4</td>\n",
       "      <td>negative</td>\n",
       "    </tr>\n",
       "    <tr>\n",
       "      <th>4</th>\n",
       "      <td>train</td>\n",
       "      <td>256</td>\n",
       "      <td>142</td>\n",
       "      <td>6</td>\n",
       "      <td>positive</td>\n",
       "    </tr>\n",
       "  </tbody>\n",
       "</table>\n",
       "</div>"
      ],
      "text/plain": [
       "  sample  cholesteral  thalac  oldpeak   disease\n",
       "0  train          261     141        3  positive\n",
       "1  train          263     105        2  negative\n",
       "2  train          269     121        2  negative\n",
       "3  train          177     140        4  negative\n",
       "4  train          256     142        6  positive"
      ]
     },
     "execution_count": 2,
     "metadata": {},
     "output_type": "execute_result"
    }
   ],
   "source": [
    "#create a data frame and read the file\n",
    "df=pd.DataFrame()\n",
    "df = pd.read_excel('D:/Neural_Network/exam/heart_diseases/heart_disease_for_curves.xls',header=0)\n",
    "\n",
    "df.head()"
   ]
  },
  {
   "cell_type": "code",
   "execution_count": 3,
   "metadata": {},
   "outputs": [
    {
     "data": {
      "text/html": [
       "<div>\n",
       "<style scoped>\n",
       "    .dataframe tbody tr th:only-of-type {\n",
       "        vertical-align: middle;\n",
       "    }\n",
       "\n",
       "    .dataframe tbody tr th {\n",
       "        vertical-align: top;\n",
       "    }\n",
       "\n",
       "    .dataframe thead th {\n",
       "        text-align: right;\n",
       "    }\n",
       "</style>\n",
       "<table border=\"1\" class=\"dataframe\">\n",
       "  <thead>\n",
       "    <tr style=\"text-align: right;\">\n",
       "      <th></th>\n",
       "      <th>count</th>\n",
       "      <th>mean</th>\n",
       "      <th>std</th>\n",
       "      <th>min</th>\n",
       "      <th>25%</th>\n",
       "      <th>50%</th>\n",
       "      <th>75%</th>\n",
       "      <th>max</th>\n",
       "    </tr>\n",
       "  </thead>\n",
       "  <tbody>\n",
       "    <tr>\n",
       "      <th>cholesteral</th>\n",
       "      <td>270.0</td>\n",
       "      <td>249.659259</td>\n",
       "      <td>51.686237</td>\n",
       "      <td>126.0</td>\n",
       "      <td>213.0</td>\n",
       "      <td>245.0</td>\n",
       "      <td>280.0</td>\n",
       "      <td>564.0</td>\n",
       "    </tr>\n",
       "    <tr>\n",
       "      <th>thalac</th>\n",
       "      <td>270.0</td>\n",
       "      <td>149.677778</td>\n",
       "      <td>23.165717</td>\n",
       "      <td>71.0</td>\n",
       "      <td>133.0</td>\n",
       "      <td>153.5</td>\n",
       "      <td>166.0</td>\n",
       "      <td>202.0</td>\n",
       "    </tr>\n",
       "    <tr>\n",
       "      <th>oldpeak</th>\n",
       "      <td>270.0</td>\n",
       "      <td>10.500000</td>\n",
       "      <td>11.452098</td>\n",
       "      <td>0.0</td>\n",
       "      <td>0.0</td>\n",
       "      <td>8.0</td>\n",
       "      <td>16.0</td>\n",
       "      <td>62.0</td>\n",
       "    </tr>\n",
       "  </tbody>\n",
       "</table>\n",
       "</div>"
      ],
      "text/plain": [
       "             count        mean        std    min    25%    50%    75%    max\n",
       "cholesteral  270.0  249.659259  51.686237  126.0  213.0  245.0  280.0  564.0\n",
       "thalac       270.0  149.677778  23.165717   71.0  133.0  153.5  166.0  202.0\n",
       "oldpeak      270.0   10.500000  11.452098    0.0    0.0    8.0   16.0   62.0"
      ]
     },
     "execution_count": 3,
     "metadata": {},
     "output_type": "execute_result"
    }
   ],
   "source": [
    "df.describe().transpose()"
   ]
  },
  {
   "cell_type": "markdown",
   "metadata": {},
   "source": [
    "transform the disease column into a new label with 1 for positive and 0 for negative"
   ]
  },
  {
   "cell_type": "code",
   "execution_count": 4,
   "metadata": {},
   "outputs": [
    {
     "data": {
      "text/html": [
       "<div>\n",
       "<style scoped>\n",
       "    .dataframe tbody tr th:only-of-type {\n",
       "        vertical-align: middle;\n",
       "    }\n",
       "\n",
       "    .dataframe tbody tr th {\n",
       "        vertical-align: top;\n",
       "    }\n",
       "\n",
       "    .dataframe thead th {\n",
       "        text-align: right;\n",
       "    }\n",
       "</style>\n",
       "<table border=\"1\" class=\"dataframe\">\n",
       "  <thead>\n",
       "    <tr style=\"text-align: right;\">\n",
       "      <th></th>\n",
       "      <th>sample</th>\n",
       "      <th>cholesteral</th>\n",
       "      <th>thalac</th>\n",
       "      <th>oldpeak</th>\n",
       "      <th>label</th>\n",
       "    </tr>\n",
       "  </thead>\n",
       "  <tbody>\n",
       "    <tr>\n",
       "      <th>0</th>\n",
       "      <td>train</td>\n",
       "      <td>261</td>\n",
       "      <td>141</td>\n",
       "      <td>3</td>\n",
       "      <td>1</td>\n",
       "    </tr>\n",
       "    <tr>\n",
       "      <th>1</th>\n",
       "      <td>train</td>\n",
       "      <td>263</td>\n",
       "      <td>105</td>\n",
       "      <td>2</td>\n",
       "      <td>0</td>\n",
       "    </tr>\n",
       "    <tr>\n",
       "      <th>2</th>\n",
       "      <td>train</td>\n",
       "      <td>269</td>\n",
       "      <td>121</td>\n",
       "      <td>2</td>\n",
       "      <td>0</td>\n",
       "    </tr>\n",
       "    <tr>\n",
       "      <th>3</th>\n",
       "      <td>train</td>\n",
       "      <td>177</td>\n",
       "      <td>140</td>\n",
       "      <td>4</td>\n",
       "      <td>0</td>\n",
       "    </tr>\n",
       "    <tr>\n",
       "      <th>4</th>\n",
       "      <td>train</td>\n",
       "      <td>256</td>\n",
       "      <td>142</td>\n",
       "      <td>6</td>\n",
       "      <td>1</td>\n",
       "    </tr>\n",
       "  </tbody>\n",
       "</table>\n",
       "</div>"
      ],
      "text/plain": [
       "  sample  cholesteral  thalac  oldpeak  label\n",
       "0  train          261     141        3      1\n",
       "1  train          263     105        2      0\n",
       "2  train          269     121        2      0\n",
       "3  train          177     140        4      0\n",
       "4  train          256     142        6      1"
      ]
     },
     "execution_count": 4,
     "metadata": {},
     "output_type": "execute_result"
    }
   ],
   "source": [
    "df = pd.get_dummies(df, columns=['disease'], drop_first=True)\n",
    "df.rename(columns={'disease_positive':'label'}, inplace=True)\n",
    "df.head()"
   ]
  },
  {
   "cell_type": "markdown",
   "metadata": {},
   "source": [
    "create the training samples X_train and y_train of the row 0 to 150 for training the model"
   ]
  },
  {
   "cell_type": "code",
   "execution_count": 5,
   "metadata": {},
   "outputs": [
    {
     "name": "stdout",
     "output_type": "stream",
     "text": [
      "   cholesteral  thalac  oldpeak\n",
      "0          261     141        3\n",
      "1          263     105        2\n",
      "2          269     121        2\n",
      "0    1\n",
      "1    0\n",
      "2    0\n",
      "Name: label, dtype: uint8\n"
     ]
    }
   ],
   "source": [
    "#All the column without the column sample and label for X_train:\n",
    "X=df.drop(['sample','label'],axis=1)[0:150]\n",
    "print(X.head(3))\n",
    "\n",
    "#Only the column label for the y_train:\n",
    "y_train=df['label'][0:150]\n",
    "print(y_train.head(3))"
   ]
  },
  {
   "cell_type": "markdown",
   "metadata": {},
   "source": [
    "Data processing: \n",
    "the Multi-layer Perceptron is sensitive to feature scaling.  I will use the built-in StandardScaler for standardization the data.\n",
    "I will apply the same scaling for the training set X_train and the test set X_test .    \n"
   ]
  },
  {
   "cell_type": "code",
   "execution_count": 6,
   "metadata": {},
   "outputs": [
    {
     "data": {
      "text/plain": [
       "(150, 3)"
      ]
     },
     "execution_count": 6,
     "metadata": {},
     "output_type": "execute_result"
    }
   ],
   "source": [
    "scaler = StandardScaler()\n",
    "\n",
    "# Fit only to the training data X:\n",
    "scaler.fit(X)\n",
    "\n",
    "StandardScaler(copy=True, with_mean=True, with_std=True)\n",
    "\n",
    "# Now apply the transformations to the data X:\n",
    "X_train = scaler.transform(X)\n",
    "X_train.shape"
   ]
  },
  {
   "cell_type": "markdown",
   "metadata": {},
   "source": [
    "MLPClassifier implements a multi-layer perceptron (MLP) supports multi-class classification by applying Softmax as the output function.\n",
    "Further, the model supports multi-label classification in which a sample can belong to more than one class, \n",
    "I choose 2 hidden layers with the same number of 10 neurons ,\n",
    "I choose the activation 'tanh':hyperbolic tan function and the solver 'adam':refers to a stochastic gradient-based optimizer, \n",
    "With these parameters for the data, the model converge easily to the minimum."
   ]
  },
  {
   "cell_type": "code",
   "execution_count": 14,
   "metadata": {},
   "outputs": [
    {
     "data": {
      "text/plain": [
       "MLPClassifier(activation='tanh', alpha=1e-08, batch_size='auto', beta_1=0.9,\n",
       "       beta_2=0.999, early_stopping=False, epsilon=1e-08,\n",
       "       hidden_layer_sizes=(10, 10), learning_rate='constant',\n",
       "       learning_rate_init=0.001, max_iter=200, momentum=0.9,\n",
       "       nesterovs_momentum=True, power_t=0.5, random_state=None,\n",
       "       shuffle=True, solver='adam', tol=0.0001, validation_fraction=0.1,\n",
       "       verbose=False, warm_start=False)"
      ]
     },
     "execution_count": 14,
     "metadata": {},
     "output_type": "execute_result"
    }
   ],
   "source": [
    "mlp = MLPClassifier(hidden_layer_sizes=(10,10),activation='tanh',solver='adam', alpha=1e-8)\n",
    "\n",
    "mlp.fit(X_train,y_train)"
   ]
  },
  {
   "cell_type": "markdown",
   "metadata": {},
   "source": [
    "Evaluate the model with predictions:\n",
    "I apply the same StandardScaler on the X_test to standardize the data to predict."
   ]
  },
  {
   "cell_type": "code",
   "execution_count": 15,
   "metadata": {},
   "outputs": [],
   "source": [
    "#define the data for predictions X_test of the row 150 at the end:\n",
    "X_test=df.drop(['sample','label'],axis=1)[150:]\n",
    "\n",
    "#define the data to compare with the predictions of the row 150 at the end:\n",
    "y_test=df['label'][150:]\n",
    "\n",
    "#apply the StandardScaler transformations to the data X_test:\n",
    "X_test = scaler.transform(X_test)\n",
    "\n",
    "#pred the data with the mlp model:\n",
    "predictions = mlp.predict(X_test)\n",
    "#predictions"
   ]
  },
  {
   "cell_type": "markdown",
   "metadata": {},
   "source": [
    "I use SciKit-Learn’s built in metrics with a classification report, accuracy score and confusion matrix to evaluate how well the model performed."
   ]
  },
  {
   "cell_type": "code",
   "execution_count": 16,
   "metadata": {},
   "outputs": [
    {
     "name": "stdout",
     "output_type": "stream",
     "text": [
      "             precision    recall  f1-score   support\n",
      "\n",
      "          0       0.76      0.79      0.78        66\n",
      "          1       0.73      0.70      0.72        54\n",
      "\n",
      "avg / total       0.75      0.75      0.75       120\n",
      "\n",
      "####################################################\n",
      "The score is 0.75\n"
     ]
    }
   ],
   "source": [
    "#classification report:\n",
    "print(classification_report(y_test,predictions))\n",
    "#accuracy score:\n",
    "print(\"####################################################\")\n",
    "print('The score is {}'.format(accuracy_score(y_test,predictions, normalize=True)))"
   ]
  },
  {
   "cell_type": "markdown",
   "metadata": {},
   "source": [
    "I have a score around 75%, the model predict well  the data of the X_test.\n",
    "\n",
    "below, you have the confusion matrix with the true positive and the others."
   ]
  },
  {
   "cell_type": "code",
   "execution_count": 17,
   "metadata": {},
   "outputs": [
    {
     "name": "stdout",
     "output_type": "stream",
     "text": [
      "[[52 14]\n",
      " [16 38]]\n",
      "##############################\n",
      "True Positive is 38\n",
      "True Negative is 52\n",
      "False Positive is 14\n",
      "False Negative is 16\n"
     ]
    }
   ],
   "source": [
    "#confusion matrix for Tn,Fp,Fn,Tp\n",
    "confusion=confusion_matrix(y_test,predictions)\n",
    "tn, fp, fn, tp = confusion_matrix(y_test,predictions).ravel()\n",
    "\n",
    "print(confusion)\n",
    "print(\"##############################\")\n",
    "print('True Positive is {}'.format(tp))\n",
    "print('True Negative is {}'.format(tn))\n",
    "print('False Positive is {}'.format(fp))\n",
    "print('False Negative is {}'.format(fn))\n"
   ]
  },
  {
   "cell_type": "markdown",
   "metadata": {},
   "source": [
    "# DEBUGGING ALGORITHM: "
   ]
  },
  {
   "cell_type": "markdown",
   "metadata": {},
   "source": [
    "# learning curves"
   ]
  },
  {
   "cell_type": "markdown",
   "metadata": {},
   "source": [
    "this diagnostic tools, can help us to improve the performance of a learning algorithm.\n",
    "By plotting the model training and validation accuracies as functions of the training set size, we can easily detect whether the model suffers from high variance or high bias."
   ]
  },
  {
   "cell_type": "code",
   "execution_count": 18,
   "metadata": {},
   "outputs": [],
   "source": [
    "from sklearn.model_selection import learning_curve\n",
    "from sklearn.model_selection import validation_curve\n",
    "from sklearn.preprocessing import StandardScaler\n",
    "from sklearn.linear_model import LogisticRegression\n",
    "from sklearn.pipeline import make_pipeline\n",
    "\n",
    "pipe_lr=make_pipeline(StandardScaler(),LogisticRegression(penalty='l2',random_state=1))"
   ]
  },
  {
   "cell_type": "code",
   "execution_count": 19,
   "metadata": {},
   "outputs": [
    {
     "data": {
      "image/png": "[encoded data removed]",
      "text/plain": [
       "<Figure size 720x360 with 1 Axes>"
      ]
     },
     "metadata": {},
     "output_type": "display_data"
    }
   ],
   "source": [
    "train_sizes, train_scores, test_scores=learning_curve(estimator=pipe_lr,X=X_train,y=y_train,train_sizes=np.linspace(0.1,1.0,10),cv=10,n_jobs=1)\n",
    "\n",
    "train_mean=np.mean(train_scores,axis=1)\n",
    "train_std=np.std(train_scores,axis=1)\n",
    "test_mean=np.mean(test_scores,axis=1)\n",
    "test_std=np.std(test_scores,axis=1)\n",
    "\n",
    "plt.figure(figsize=(10,5))\n",
    "#calculate the average accuracies from the returned cross-validated training scores for the different size of the training set\n",
    "plt.plot(train_sizes,train_mean,color='b',marker='o',markersize=5,label='training accuracy')\n",
    "#variance of the estimate:standard deviation of the training average accuracy \n",
    "plt.fill_between(train_sizes,train_mean + train_std, train_mean - train_std,alpha=0.15, color='blue')\n",
    "#calculate the average accuracies from the returned cross-validated test scores for the different size of the training set\n",
    "plt.plot(train_sizes, test_mean, color='green',linestyle='--', marker='s',markersize=5,label='validation accuracy')\n",
    "#variance of the estimate:standard deviation of the validation average accuracy \n",
    "plt.fill_between(train_sizes,test_mean + test_std, test_mean - test_std,alpha=0.15, color='green')\n",
    "\n",
    "plt.grid()\n",
    "plt.title('Learning curves')\n",
    "plt.xlabel('Number of training samples')\n",
    "plt.ylabel('Accuracy')\n",
    "plt.legend(loc='upper right')\n",
    "plt.show()"
   ]
  },
  {
   "cell_type": "markdown",
   "metadata": {},
   "source": [
    "the model has a good bias-variance trade off. \n"
   ]
  },
  {
   "cell_type": "markdown",
   "metadata": {},
   "source": [
    "# Estimate the performance of the classifier:\n"
   ]
  },
  {
   "cell_type": "markdown",
   "metadata": {},
   "source": [
    "# Validation curves "
   ]
  },
  {
   "cell_type": "markdown",
   "metadata": {},
   "source": [
    "Validation curves are useful for improving the performance of a model by addressing issues such as overfitting or underfitting.\n",
    "Validation curves are related to learning curves, but instead of plotting the training and test accuracies as funcions of the sample size, we vary the values of the model parameters. for example the inverse regularization parameter C in logisticRegression."
   ]
  },
  {
   "cell_type": "code",
   "execution_count": 20,
   "metadata": {},
   "outputs": [
    {
     "data": {
      "image/png": "[encoded data removed]",
      "text/plain": [
       "<Figure size 720x360 with 1 Axes>"
      ]
     },
     "metadata": {},
     "output_type": "display_data"
    }
   ],
   "source": [
    "param_range=[0.001,0.01,0.1,1.0,10.0,100.0]\n",
    "train_scores, test_scores=validation_curve(estimator=pipe_lr,X=X_test,y=y_test,param_name='logisticregression__C',cv=10,param_range=param_range)\n",
    "\n",
    "train_mean=np.mean(train_scores,axis=1)\n",
    "train_std=np.std(train_scores,axis=1)\n",
    "test_mean=np.mean(test_scores,axis=1)\n",
    "test_std=np.std(test_scores,axis=1)\n",
    "\n",
    "plt.figure(figsize=(10,5))\n",
    "\n",
    "plt.plot(param_range,train_mean,color='b',marker='o',markersize=5,label='training accuracy')\n",
    "\n",
    "plt.fill_between(param_range,train_mean + train_std, train_mean - train_std,alpha=0.15, color='blue')\n",
    "\n",
    "plt.plot(param_range, test_mean, color='green',linestyle='--', marker='s',markersize=5,label='validation accuracy')\n",
    "\n",
    "plt.fill_between(param_range,test_mean + test_std, test_mean - test_std,alpha=0.15, color='green')\n",
    "\n",
    "plt.grid()\n",
    "plt.xscale('log')\n",
    "plt.title('Validation curves')\n",
    "plt.legend(loc='upper right')\n",
    "plt.xlabel('Parameter C')\n",
    "plt.ylabel('Accuracy')\n",
    "plt.show()"
   ]
  },
  {
   "cell_type": "markdown",
   "metadata": {},
   "source": [
    "the validation curves function uses stratified k-fold cross-validation by default to estimate the performance of the classifier. i evaluate the parameter C the inverse regularization parameter.\n",
    "the model fit well the data without overfitting or underfitting"
   ]
  },
  {
   "cell_type": "code",
   "execution_count": null,
   "metadata": {},
   "outputs": [],
   "source": []
  }
 ],
 "metadata": {
  "kernelspec": {
   "display_name": "Python 3",
   "language": "python",
   "name": "python3"
  },
  "language_info": {
   "codemirror_mode": {
    "name": "ipython",
    "version": 3
   },
   "file_extension": ".py",
   "mimetype": "text/x-python",
   "name": "python",
   "nbconvert_exporter": "python",
   "pygments_lexer": "ipython3",
   "version": "3.6.5"
  }
 },
 "nbformat": 4,
 "nbformat_minor": 2
}
